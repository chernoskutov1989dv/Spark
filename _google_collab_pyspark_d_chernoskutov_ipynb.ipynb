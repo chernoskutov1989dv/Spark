{
  "nbformat": 4,
  "nbformat_minor": 0,
  "metadata": {
    "colab": {
      "provenance": [],
      "collapsed_sections": [
        "QKDxST8Yf_2X"
      ],
      "include_colab_link": true
    },
    "kernelspec": {
      "name": "python3",
      "display_name": "Python 3"
    },
    "language_info": {
      "name": "python"
    }
  },
  "cells": [
    {
      "cell_type": "markdown",
      "metadata": {
        "id": "view-in-github",
        "colab_type": "text"
      },
      "source": [
        "<a href=\"https://colab.research.google.com/github/chernoskutov1989dv/Spark-Project-Car-database/blob/master/_google_collab_pyspark_d_chernoskutov_ipynb.ipynb\" target=\"_parent\"><img src=\"https://colab.research.google.com/assets/colab-badge.svg\" alt=\"Open In Colab\"/></a>"
      ]
    },
    {
      "cell_type": "markdown",
      "source": [
        "# Установка через pip"
      ],
      "metadata": {
        "id": "LDZmh_CCf2n7"
      }
    },
    {
      "cell_type": "code",
      "execution_count": null,
      "source": [
        "pip install pyspark"
      ],
      "outputs": [
        {
          "output_type": "stream",
          "name": "stdout",
          "text": [
            "Looking in indexes: https://pypi.org/simple, https://us-python.pkg.dev/colab-wheels/public/simple/\n",
            "Collecting pyspark\n",
            "  Downloading pyspark-3.3.0.tar.gz (281.3 MB)\n",
            "\u001b[K     |████████████████████████████████| 281.3 MB 44 kB/s \n",
            "\u001b[?25hCollecting py4j==0.10.9.5\n",
            "  Downloading py4j-0.10.9.5-py2.py3-none-any.whl (199 kB)\n",
            "\u001b[K     |████████████████████████████████| 199 kB 41.6 MB/s \n",
            "\u001b[?25hBuilding wheels for collected packages: pyspark\n",
            "  Building wheel for pyspark (setup.py) ... \u001b[?25l\u001b[?25hdone\n",
            "  Created wheel for pyspark: filename=pyspark-3.3.0-py2.py3-none-any.whl size=281764026 sha256=731a5e7d74920ed14bc4291d49249c7e9f637ec6e193057ad9a8995a0eac30d0\n",
            "  Stored in directory: /root/.cache/pip/wheels/7a/8e/1b/f73a52650d2e5f337708d9f6a1750d451a7349a867f928b885\n",
            "Successfully built pyspark\n",
            "Installing collected packages: py4j, pyspark\n",
            "Successfully installed py4j-0.10.9.5 pyspark-3.3.0\n"
          ]
        }
      ],
      "metadata": {
        "colab": {
          "base_uri": "https://localhost:8080/"
        },
        "id": "AQmIemKzefl1",
        "outputId": "64eb8a57-59a9-4efc-ccf4-b7decf7c80cb"
      }
    },
    {
      "cell_type": "code",
      "execution_count": null,
      "source": [
        "from pyspark.sql import SparkSession"
      ],
      "outputs": [],
      "metadata": {
        "id": "3OqqyacceonY"
      }
    },
    {
      "cell_type": "code",
      "execution_count": null,
      "source": [
        "spark = SparkSession.builder.appName(\"Test\").getOrCreate()"
      ],
      "outputs": [],
      "metadata": {
        "id": "k8CoonXZe12o"
      }
    },
    {
      "cell_type": "code",
      "execution_count": null,
      "source": [
        "spark.version"
      ],
      "outputs": [
        {
          "output_type": "execute_result",
          "data": {
            "text/plain": [
              "'3.3.0'"
            ],
            "application/vnd.google.colaboratory.intrinsic+json": {
              "type": "string"
            }
          },
          "metadata": {},
          "execution_count": 4
        }
      ],
      "metadata": {
        "colab": {
          "base_uri": "https://localhost:8080/",
          "height": 36
        },
        "id": "SR80echne48V",
        "outputId": "dd9ef46c-d79b-4044-daa8-1155cedc1b5e"
      }
    },
    {
      "cell_type": "code",
      "execution_count": null,
      "source": [
        "!head -h5 data/cars.csv"
      ],
      "outputs": [
        {
          "output_type": "stream",
          "name": "stdout",
          "text": [
            "head: invalid option -- 'h'\n",
            "Try 'head --help' for more information.\n"
          ]
        }
      ],
      "metadata": {
        "id": "qNAh2ElOfNDC",
        "colab": {
          "base_uri": "https://localhost:8080/"
        },
        "outputId": "f4ec99cd-090a-4476-c830-fd494f77b537"
      }
    },
    {
      "cell_type": "markdown",
      "source": [
        "# Установка из исходников\n",
        "\n"
      ],
      "metadata": {
        "id": "QKDxST8Yf_2X"
      }
    },
    {
      "cell_type": "markdown",
      "source": [
        "Чуть более сложная установка и настройка, однако более гибкая (можно выбрать любую версию Spark и Java)"
      ],
      "metadata": {
        "id": "Y4NrWdIOhEh4"
      }
    },
    {
      "cell_type": "code",
      "execution_count": null,
      "source": [
        "!apt-get install openjdk-8-jdk-headless -qq > /dev/null\n",
        "!wget -q https://downloads.apache.org/spark/spark-3.1.2/spark-3.1.2-bin-hadoop3.2.tgz\n",
        "!tar xf spark-3.1.2-bin-hadoop3.2.tgz\n",
        "!pip install -q findspark"
      ],
      "outputs": [
        {
          "output_type": "stream",
          "name": "stdout",
          "text": [
            "tar: spark-3.1.2-bin-hadoop3.2.tgz: Cannot open: No such file or directory\n",
            "tar: Error is not recoverable: exiting now\n"
          ]
        }
      ],
      "metadata": {
        "id": "h4Umj6nsgEOx",
        "colab": {
          "base_uri": "https://localhost:8080/"
        },
        "outputId": "7052b13b-9642-44c5-ac44-0b21509cd89c"
      }
    },
    {
      "cell_type": "code",
      "execution_count": null,
      "source": [
        "import os\n",
        "os.environ[\"JAVA_HOME\"] = \"/usr/lib/jvm/java-8-openjdk-amd64\"\n",
        "os.environ[\"SPARK_HOME\"] = \"/content/spark-3.1.2-bin-hadoop3.2\""
      ],
      "outputs": [],
      "metadata": {
        "id": "XkmjnT22hWpY"
      }
    },
    {
      "cell_type": "code",
      "execution_count": null,
      "source": [
        "import findspark\n",
        "findspark.init()\n",
        "\n",
        "from pyspark.sql import SparkSession\n",
        "spark = SparkSession.builder.master(\"local[*]\").getOrCreate()"
      ],
      "outputs": [],
      "metadata": {
        "id": "itoC1yuCiRXi"
      }
    },
    {
      "cell_type": "code",
      "execution_count": null,
      "source": [
        "spark.version"
      ],
      "outputs": [
        {
          "output_type": "execute_result",
          "data": {
            "text/plain": [
              "'3.3.0'"
            ],
            "application/vnd.google.colaboratory.intrinsic+json": {
              "type": "string"
            }
          },
          "metadata": {},
          "execution_count": 9
        }
      ],
      "metadata": {
        "colab": {
          "base_uri": "https://localhost:8080/"
        },
        "id": "StzqSXaCiSWM",
        "outputId": "79f6d6bd-db3e-4035-cb84-b0691ff4ed45"
      }
    },
    {
      "cell_type": "code",
      "execution_count": null,
      "source": [],
      "outputs": [],
      "metadata": {
        "id": "Hla-LpR0j9rq"
      }
    },
    {
      "cell_type": "markdown",
      "source": [
        "# Дополнительные фишки Google Colab"
      ],
      "metadata": {
        "id": "2rOtHd52kFeL"
      }
    },
    {
      "cell_type": "code",
      "execution_count": null,
      "source": [
        "# Загрузка файла с локального диска\n",
        "\n",
        "from google.colab import files\n",
        "files.upload()"
      ],
      "outputs": [
        {
          "output_type": "display_data",
          "data": {
            "text/plain": [
              "<IPython.core.display.HTML object>"
            ],
            "text/html": [
              "\n",
              "     <input type=\"file\" id=\"files-cd11200b-8b53-4d42-8e87-dc1f8c4da22e\" name=\"files[]\" multiple disabled\n",
              "        style=\"border:none\" />\n",
              "     <output id=\"result-cd11200b-8b53-4d42-8e87-dc1f8c4da22e\">\n",
              "      Upload widget is only available when the cell has been executed in the\n",
              "      current browser session. Please rerun this cell to enable.\n",
              "      </output>\n",
              "      <script src=\"/nbextensions/google.colab/files.js\"></script> "
            ]
          },
          "metadata": {}
        },
        {
          "output_type": "execute_result",
          "data": {
            "text/plain": [
              "{}"
            ]
          },
          "metadata": {},
          "execution_count": 10
        }
      ],
      "metadata": {
        "colab": {
          "resources": {
            "http://localhost:8080/nbextensions/google.colab/files.js": {
              "data": "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",
              "ok": true,
              "headers": [
                [
                  "content-type",
                  "application/javascript"
                ]
              ],
              "status": 200,
              "status_text": ""
            }
          },
          "base_uri": "https://localhost:8080/",
          "height": 56
        },
        "id": "Y_5A8IUukLLx",
        "outputId": "2014dcf4-cf52-4ea3-d9d9-ebb7909200ca"
      }
    },
    {
      "cell_type": "code",
      "execution_count": null,
      "source": [
        "# примонтировать Google Drive\n",
        "\n",
        "from google.colab import drive\n",
        "drive.mount('/content/drive')"
      ],
      "outputs": [
        {
          "output_type": "stream",
          "name": "stdout",
          "text": [
            "Mounted at /content/drive\n"
          ]
        }
      ],
      "metadata": {
        "colab": {
          "base_uri": "https://localhost:8080/"
        },
        "id": "_96qZ_Fsk240",
        "outputId": "f8c7e884-9cab-4f9c-84f3-c62e65dc8941"
      }
    },
    {
      "cell_type": "code",
      "execution_count": null,
      "source": [
        "spark.read.format (\"csv\").load (\"datacars.csv\")"
      ],
      "outputs": [
        {
          "output_type": "execute_result",
          "data": {
            "text/plain": [
              "DataFrame[_c0: string, _c1: string, _c2: string, _c3: string, _c4: string, _c5: string, _c6: string, _c7: string, _c8: string, _c9: string, _c10: string, _c11: string, _c12: string, _c13: string, _c14: string, _c15: string, _c16: string, _c17: string, _c18: string, _c19: string, _c20: string, _c21: string, _c22: string, _c23: string, _c24: string, _c25: string, _c26: string, _c27: string, _c28: string, _c29: string]"
            ]
          },
          "metadata": {},
          "execution_count": 13
        }
      ],
      "metadata": {
        "id": "VvdIzP5NlL4T",
        "colab": {
          "base_uri": "https://localhost:8080/"
        },
        "outputId": "6d210800-0ed8-4d3e-e966-f5bf7538d716"
      }
    },
    {
      "cell_type": "code",
      "source": [
        "spark.read.format (\"csv\").option(\"header\", \"true\").load (\"datacars.csv\")"
      ],
      "metadata": {
        "colab": {
          "base_uri": "https://localhost:8080/"
        },
        "id": "L_F1y87_1mqW",
        "outputId": "ab678b90-4700-452b-97e9-9c50aee2e53a"
      },
      "execution_count": null,
      "outputs": [
        {
          "output_type": "execute_result",
          "data": {
            "text/plain": [
              "DataFrame[manufacturer_name: string, model_name: string, transmission: string, color: string, odometer_value: string, year_produced: string, engine_fuel: string, engine_has_gas: string, engine_type: string, engine_capacity: string, body_type: string, has_warranty: string, state: string, drivetrain: string, price_usd: string, is_exchangeable: string, location_region: string, number_of_photos: string, up_counter: string, feature_0: string, feature_1: string, feature_2: string, feature_3: string, feature_4: string, feature_5: string, feature_6: string, feature_7: string, feature_8: string, feature_9: string, duration_listed: string]"
            ]
          },
          "metadata": {},
          "execution_count": 14
        }
      ]
    },
    {
      "cell_type": "code",
      "source": [
        "df = spark.read.format (\"csv\").option(\"header\", \"true\").load (\"datacars.csv\")"
      ],
      "metadata": {
        "id": "HcYtxFD92OpW"
      },
      "execution_count": null,
      "outputs": []
    },
    {
      "cell_type": "code",
      "source": [
        "df.select (\"manufacturer_name\", \"model_name\").show(5)"
      ],
      "metadata": {
        "colab": {
          "base_uri": "https://localhost:8080/"
        },
        "id": "nPrmgDBN1sZd",
        "outputId": "f3a10ac0-80be-42e4-cf3b-d49e1694eab2"
      },
      "execution_count": null,
      "outputs": [
        {
          "output_type": "stream",
          "name": "stdout",
          "text": [
            "+-----------------+----------+\n",
            "|manufacturer_name|model_name|\n",
            "+-----------------+----------+\n",
            "|           Subaru|   Outback|\n",
            "|           Subaru|   Outback|\n",
            "|           Subaru|  Forester|\n",
            "|           Subaru|   Impreza|\n",
            "|           Subaru|    Legacy|\n",
            "+-----------------+----------+\n",
            "only showing top 5 rows\n",
            "\n"
          ]
        }
      ]
    },
    {
      "cell_type": "code",
      "source": [
        "import pyspark.sql.functions as F\n",
        "\n",
        "df.select (F.col (\"manufacturer_name\"), F.col(\"model_name\")).show(5)"
      ],
      "metadata": {
        "colab": {
          "base_uri": "https://localhost:8080/"
        },
        "id": "dgaSv1Qi21wR",
        "outputId": "49f794e9-5d78-4dc8-82ff-90edb3776af8"
      },
      "execution_count": null,
      "outputs": [
        {
          "output_type": "stream",
          "name": "stdout",
          "text": [
            "+-----------------+----------+\n",
            "|manufacturer_name|model_name|\n",
            "+-----------------+----------+\n",
            "|           Subaru|   Outback|\n",
            "|           Subaru|   Outback|\n",
            "|           Subaru|  Forester|\n",
            "|           Subaru|   Impreza|\n",
            "|           Subaru|    Legacy|\n",
            "+-----------------+----------+\n",
            "only showing top 5 rows\n",
            "\n"
          ]
        }
      ]
    },
    {
      "cell_type": "code",
      "source": [
        "df.select(\"manufacturer_name\", \"model_name\", \"transmission\").filter(\"manufacturer_name = 'Audi'\").show(5)\n",
        "\n",
        "\n"
      ],
      "metadata": {
        "colab": {
          "base_uri": "https://localhost:8080/"
        },
        "id": "lUPPdqig3Evs",
        "outputId": "98a2862f-df01-44fe-adee-41088cfde0b3"
      },
      "execution_count": null,
      "outputs": [
        {
          "output_type": "stream",
          "name": "stdout",
          "text": [
            "+-----------------+----------+------------+\n",
            "|manufacturer_name|model_name|transmission|\n",
            "+-----------------+----------+------------+\n",
            "|             Audi|        Q7|   automatic|\n",
            "|             Audi|        TT|   automatic|\n",
            "|             Audi|       100|  mechanical|\n",
            "|             Audi|        A6|   automatic|\n",
            "|             Audi|        Q3|   automatic|\n",
            "+-----------------+----------+------------+\n",
            "only showing top 5 rows\n",
            "\n"
          ]
        }
      ]
    },
    {
      "cell_type": "code",
      "source": [
        "(\n",
        "    df\n",
        "    .select(\"manufacturer_name\", \"model_name\", \"transmission\")\n",
        "    .filter(\"manufacturer_name = 'Audi' and transmission = 'mechanical'\")\n",
        "    .show(5)\n",
        ")"
      ],
      "metadata": {
        "colab": {
          "base_uri": "https://localhost:8080/"
        },
        "id": "tFCtkYUqiKCU",
        "outputId": "d467cf27-49af-4f00-ae22-1cb20ae39fdd"
      },
      "execution_count": null,
      "outputs": [
        {
          "output_type": "stream",
          "name": "stdout",
          "text": [
            "+-----------------+----------+------------+\n",
            "|manufacturer_name|model_name|transmission|\n",
            "+-----------------+----------+------------+\n",
            "|             Audi|       100|  mechanical|\n",
            "|             Audi|A6 Allroad|  mechanical|\n",
            "|             Audi|       100|  mechanical|\n",
            "|             Audi|        A4|  mechanical|\n",
            "|             Audi|        80|  mechanical|\n",
            "+-----------------+----------+------------+\n",
            "only showing top 5 rows\n",
            "\n"
          ]
        }
      ]
    },
    {
      "cell_type": "code",
      "source": [
        "NAME = 'Audi'   #Если параметр приходит из ВНЕ\n",
        "(\n",
        "   df\n",
        "   .select (\"manufacturer_name\", \"model_name\", \"transmission\")  \n",
        "   .filter(F.col(\"manufacturer_name\") == NAME)\n",
        "   .filter(F.col(\"transmission\") ==\"mechanical\")\n",
        "   .show(5)\n",
        "\n",
        ")\n"
      ],
      "metadata": {
        "colab": {
          "base_uri": "https://localhost:8080/"
        },
        "id": "i4657lIymiBZ",
        "outputId": "ec5db4ee-11fb-4a80-c075-585c6c078bc7"
      },
      "execution_count": null,
      "outputs": [
        {
          "output_type": "stream",
          "name": "stdout",
          "text": [
            "+-----------------+----------+------------+\n",
            "|manufacturer_name|model_name|transmission|\n",
            "+-----------------+----------+------------+\n",
            "|             Audi|       100|  mechanical|\n",
            "|             Audi|A6 Allroad|  mechanical|\n",
            "|             Audi|       100|  mechanical|\n",
            "|             Audi|        A4|  mechanical|\n",
            "|             Audi|        80|  mechanical|\n",
            "+-----------------+----------+------------+\n",
            "only showing top 5 rows\n",
            "\n"
          ]
        }
      ]
    },
    {
      "cell_type": "code",
      "source": [],
      "metadata": {
        "id": "SZJkNzgYqgUT"
      },
      "execution_count": null,
      "outputs": []
    },
    {
      "cell_type": "markdown",
      "source": [],
      "metadata": {
        "id": "YcjIk-LlqhC4"
      }
    },
    {
      "cell_type": "code",
      "source": [
        "(\n",
        "    df\n",
        "    .select(\"manufacturer_name\", \"model_name\", \"transmission\")\n",
        "    .filter(F.col(\"manufacturer_name\") == \"Audi\")\n",
        "    .filter(F.col(\"transmission\") != \"mechanical\")\n",
        "    .show(5)\n",
        ")"
      ],
      "metadata": {
        "colab": {
          "base_uri": "https://localhost:8080/"
        },
        "id": "KyI8vi8hoM9L",
        "outputId": "173fda07-47f0-431f-fc2e-81acc5413406"
      },
      "execution_count": null,
      "outputs": [
        {
          "output_type": "stream",
          "name": "stdout",
          "text": [
            "+-----------------+----------+------------+\n",
            "|manufacturer_name|model_name|transmission|\n",
            "+-----------------+----------+------------+\n",
            "|             Audi|        Q7|   automatic|\n",
            "|             Audi|        TT|   automatic|\n",
            "|             Audi|        A6|   automatic|\n",
            "|             Audi|        Q3|   automatic|\n",
            "|             Audi|        Q5|   automatic|\n",
            "+-----------------+----------+------------+\n",
            "only showing top 5 rows\n",
            "\n"
          ]
        }
      ]
    },
    {
      "cell_type": "markdown",
      "source": [
        "# Метод подсчета всех строк:"
      ],
      "metadata": {
        "id": "F0IHhW6CqtYr"
      }
    },
    {
      "cell_type": "code",
      "source": [
        "df.count()"
      ],
      "metadata": {
        "colab": {
          "base_uri": "https://localhost:8080/"
        },
        "id": "Khxi4LiKqwAL",
        "outputId": "972c72d4-22a0-4f9d-a54f-f2aee6cede84"
      },
      "execution_count": null,
      "outputs": [
        {
          "output_type": "execute_result",
          "data": {
            "text/plain": [
              "38531"
            ]
          },
          "metadata": {},
          "execution_count": 21
        }
      ]
    },
    {
      "cell_type": "markdown",
      "source": [
        "# Метод подсчета уникальных строк:"
      ],
      "metadata": {
        "id": "Ri3lxdDDq0NZ"
      }
    },
    {
      "cell_type": "code",
      "source": [
        "df.distinct().count()\n"
      ],
      "metadata": {
        "colab": {
          "base_uri": "https://localhost:8080/"
        },
        "id": "9w614HHAq1Rq",
        "outputId": "7383a470-caa8-4d36-98b4-0371d3b34447"
      },
      "execution_count": null,
      "outputs": [
        {
          "output_type": "execute_result",
          "data": {
            "text/plain": [
              "38491"
            ]
          },
          "metadata": {},
          "execution_count": 24
        }
      ]
    },
    {
      "cell_type": "markdown",
      "source": [
        "# Метод подсчета уникальных строк по конкретной колонке, которая точно повторяется в базе:"
      ],
      "metadata": {
        "id": "22ycl2a2q7Sq"
      }
    },
    {
      "cell_type": "code",
      "source": [
        "df.select(\"manufacturer_name\").distinct().count()"
      ],
      "metadata": {
        "colab": {
          "base_uri": "https://localhost:8080/"
        },
        "id": "9IotrOytq77L",
        "outputId": "87249e89-c622-40f6-900e-5bd046a645c8"
      },
      "execution_count": null,
      "outputs": [
        {
          "output_type": "execute_result",
          "data": {
            "text/plain": [
              "55"
            ]
          },
          "metadata": {},
          "execution_count": 25
        }
      ]
    },
    {
      "cell_type": "markdown",
      "source": [
        "# Группирование и агреация"
      ],
      "metadata": {
        "id": "tD8dp3HHrDDr"
      }
    },
    {
      "cell_type": "markdown",
      "source": [
        "\n",
        "# сгруппировать по  manufacturer_name и посчитать количество"
      ],
      "metadata": {
        "id": "a2RTWjhXrDyi"
      }
    },
    {
      "cell_type": "code",
      "source": [
        "df.groupBy(\"manufacturer_name\").count() "
      ],
      "metadata": {
        "colab": {
          "base_uri": "https://localhost:8080/"
        },
        "id": "LJnzCF-PrGH7",
        "outputId": "c5e94ee6-0806-40f8-fda6-97f7479bae5e"
      },
      "execution_count": null,
      "outputs": [
        {
          "output_type": "execute_result",
          "data": {
            "text/plain": [
              "DataFrame[manufacturer_name: string, count: bigint]"
            ]
          },
          "metadata": {},
          "execution_count": 26
        }
      ]
    },
    {
      "cell_type": "code",
      "source": [
        "df.groupBy(\"manufacturer_name\").count().show()"
      ],
      "metadata": {
        "colab": {
          "base_uri": "https://localhost:8080/"
        },
        "id": "S1I_CTXprMMi",
        "outputId": "8ffd4e67-f574-498e-f645-2cb7db577606"
      },
      "execution_count": null,
      "outputs": [
        {
          "output_type": "stream",
          "name": "stdout",
          "text": [
            "+-----------------+-----+\n",
            "|manufacturer_name|count|\n",
            "+-----------------+-----+\n",
            "|       Volkswagen| 4243|\n",
            "|            Lexus|  213|\n",
            "|           Jaguar|   53|\n",
            "|            Rover|  235|\n",
            "|           Lancia|   92|\n",
            "|             Jeep|  107|\n",
            "|       Mitsubishi|  887|\n",
            "|              ГАЗ|  200|\n",
            "|              Kia|  912|\n",
            "|             Mini|   68|\n",
            "|        Chevrolet|  436|\n",
            "|            Volvo|  721|\n",
            "|            Lifan|   47|\n",
            "|          Hyundai| 1116|\n",
            "|             LADA|  146|\n",
            "|        SsangYong|   79|\n",
            "|             Audi| 2468|\n",
            "|             Seat|  303|\n",
            "|         Cadillac|   43|\n",
            "|          Pontiac|   42|\n",
            "+-----------------+-----+\n",
            "only showing top 20 rows\n",
            "\n"
          ]
        }
      ]
    },
    {
      "cell_type": "markdown",
      "source": [
        "# сгруппировать по возрастанию "
      ],
      "metadata": {
        "id": "oH6YnB-XrTk-"
      }
    },
    {
      "cell_type": "code",
      "source": [
        "df.groupBy (\"manufacturer_name\").count().orderBy (\"count\").show(5) "
      ],
      "metadata": {
        "colab": {
          "base_uri": "https://localhost:8080/"
        },
        "id": "MqJ2SXK2rY5M",
        "outputId": "4dd99391-646b-4027-ba66-d4afa84e9006"
      },
      "execution_count": null,
      "outputs": [
        {
          "output_type": "stream",
          "name": "stdout",
          "text": [
            "+-----------------+-----+\n",
            "|manufacturer_name|count|\n",
            "+-----------------+-----+\n",
            "|       Great Wall|   36|\n",
            "|          Lincoln|   36|\n",
            "|              ЗАЗ|   42|\n",
            "|          Pontiac|   42|\n",
            "|         Cadillac|   43|\n",
            "+-----------------+-----+\n",
            "only showing top 5 rows\n",
            "\n"
          ]
        }
      ]
    },
    {
      "cell_type": "markdown",
      "source": [
        "# сгруппировать по убыванию с колонкой col(): и модификатором desk ():"
      ],
      "metadata": {
        "id": "ThUAyYowreDy"
      }
    },
    {
      "cell_type": "code",
      "source": [
        "df.groupBy (\"manufacturer_name\").count().orderBy(F.col(\"count\").desc()).show(5) "
      ],
      "metadata": {
        "colab": {
          "base_uri": "https://localhost:8080/"
        },
        "id": "XXIziK6lrgm1",
        "outputId": "9fd2209d-edbc-45a7-8c95-e434cf71e97d"
      },
      "execution_count": null,
      "outputs": [
        {
          "output_type": "stream",
          "name": "stdout",
          "text": [
            "+-----------------+-----+\n",
            "|manufacturer_name|count|\n",
            "+-----------------+-----+\n",
            "|       Volkswagen| 4243|\n",
            "|             Opel| 2759|\n",
            "|              BMW| 2610|\n",
            "|             Ford| 2566|\n",
            "|          Renault| 2493|\n",
            "+-----------------+-----+\n",
            "only showing top 5 rows\n",
            "\n"
          ]
        }
      ]
    },
    {
      "cell_type": "markdown",
      "source": [
        "# сгруппировать по убыванию альтернативно (без desc)"
      ],
      "metadata": {
        "id": "YvzQlYrErz5T"
      }
    },
    {
      "cell_type": "code",
      "source": [
        "df.groupBy (\"manufacturer_name\").count().orderBy(-F.col(\"count\")).show(5) "
      ],
      "metadata": {
        "colab": {
          "base_uri": "https://localhost:8080/"
        },
        "id": "yTtChbHSr3Mm",
        "outputId": "f885a4dc-c3cf-4cac-b1a3-a9ee1ccfbccd"
      },
      "execution_count": null,
      "outputs": [
        {
          "output_type": "stream",
          "name": "stdout",
          "text": [
            "+-----------------+-----+\n",
            "|manufacturer_name|count|\n",
            "+-----------------+-----+\n",
            "|       Volkswagen| 4243|\n",
            "|             Opel| 2759|\n",
            "|              BMW| 2610|\n",
            "|             Ford| 2566|\n",
            "|          Renault| 2493|\n",
            "+-----------------+-----+\n",
            "only showing top 5 rows\n",
            "\n"
          ]
        }
      ]
    },
    {
      "cell_type": "markdown",
      "source": [
        "# Переименовать существующую колонку "
      ],
      "metadata": {
        "id": "XnVBZTHZsAxD"
      }
    },
    {
      "cell_type": "code",
      "source": [
        "df.withColumn (\"next_year\", F.col (\"year_produced\")+1).select (\"year_produced\", \"next_year\").show(5)"
      ],
      "metadata": {
        "colab": {
          "base_uri": "https://localhost:8080/"
        },
        "id": "U9PVf-9isBcE",
        "outputId": "ee4266d7-51b7-4a29-c1e8-a4f4e2135033"
      },
      "execution_count": null,
      "outputs": [
        {
          "output_type": "stream",
          "name": "stdout",
          "text": [
            "+-------------+---------+\n",
            "|year_produced|next_year|\n",
            "+-------------+---------+\n",
            "|         2010|   2011.0|\n",
            "|         2002|   2003.0|\n",
            "|         2001|   2002.0|\n",
            "|         1999|   2000.0|\n",
            "|         2001|   2002.0|\n",
            "+-------------+---------+\n",
            "only showing top 5 rows\n",
            "\n"
          ]
        }
      ]
    },
    {
      "cell_type": "markdown",
      "source": [
        "#Вывести схему дата фрейма"
      ],
      "metadata": {
        "id": "GLpcGn7Ns1qJ"
      }
    },
    {
      "cell_type": "code",
      "source": [
        "df.printSchema()"
      ],
      "metadata": {
        "colab": {
          "base_uri": "https://localhost:8080/"
        },
        "id": "6scPHHXVs2Oe",
        "outputId": "8f1ff90e-b818-4d53-d1d9-35e4ade4a1d4"
      },
      "execution_count": null,
      "outputs": [
        {
          "output_type": "stream",
          "name": "stdout",
          "text": [
            "root\n",
            " |-- manufacturer_name: string (nullable = true)\n",
            " |-- model_name: string (nullable = true)\n",
            " |-- transmission: string (nullable = true)\n",
            " |-- color: string (nullable = true)\n",
            " |-- odometer_value: string (nullable = true)\n",
            " |-- year_produced: string (nullable = true)\n",
            " |-- engine_fuel: string (nullable = true)\n",
            " |-- engine_has_gas: string (nullable = true)\n",
            " |-- engine_type: string (nullable = true)\n",
            " |-- engine_capacity: string (nullable = true)\n",
            " |-- body_type: string (nullable = true)\n",
            " |-- has_warranty: string (nullable = true)\n",
            " |-- state: string (nullable = true)\n",
            " |-- drivetrain: string (nullable = true)\n",
            " |-- price_usd: string (nullable = true)\n",
            " |-- is_exchangeable: string (nullable = true)\n",
            " |-- location_region: string (nullable = true)\n",
            " |-- number_of_photos: string (nullable = true)\n",
            " |-- up_counter: string (nullable = true)\n",
            " |-- feature_0: string (nullable = true)\n",
            " |-- feature_1: string (nullable = true)\n",
            " |-- feature_2: string (nullable = true)\n",
            " |-- feature_3: string (nullable = true)\n",
            " |-- feature_4: string (nullable = true)\n",
            " |-- feature_5: string (nullable = true)\n",
            " |-- feature_6: string (nullable = true)\n",
            " |-- feature_7: string (nullable = true)\n",
            " |-- feature_8: string (nullable = true)\n",
            " |-- feature_9: string (nullable = true)\n",
            " |-- duration_listed: string (nullable = true)\n",
            "\n"
          ]
        }
      ]
    },
    {
      "cell_type": "code",
      "source": [
        "df.describe().show()"
      ],
      "metadata": {
        "colab": {
          "base_uri": "https://localhost:8080/"
        },
        "id": "r8H4c6NctI4-",
        "outputId": "858626ae-cf72-4c10-dd19-16712355d845"
      },
      "execution_count": null,
      "outputs": [
        {
          "output_type": "stream",
          "name": "stdout",
          "text": [
            "+-------+-----------------+------------------+------------+------+------------------+------------------+-------------+--------------+-----------+-----------------+---------+------------+---------+----------+-----------------+---------------+----------------+-----------------+------------------+---------+---------+---------+---------+---------+---------+---------+---------+---------+---------+------------------+\n",
            "|summary|manufacturer_name|        model_name|transmission| color|    odometer_value|     year_produced|  engine_fuel|engine_has_gas|engine_type|  engine_capacity|body_type|has_warranty|    state|drivetrain|        price_usd|is_exchangeable| location_region| number_of_photos|        up_counter|feature_0|feature_1|feature_2|feature_3|feature_4|feature_5|feature_6|feature_7|feature_8|feature_9|   duration_listed|\n",
            "+-------+-----------------+------------------+------------+------+------------------+------------------+-------------+--------------+-----------+-----------------+---------+------------+---------+----------+-----------------+---------------+----------------+-----------------+------------------+---------+---------+---------+---------+---------+---------+---------+---------+---------+---------+------------------+\n",
            "|  count|            38531|             38531|       38531| 38531|             38531|             38531|        38531|         38531|      38531|            38521|    38531|       38531|    38531|     38531|            38531|          38531|           38531|            38531|             38531|    38531|    38531|    38531|    38531|    38531|    38531|    38531|    38531|    38531|    38531|             38531|\n",
            "|   mean|             null|1168.2918056562726|        null|  null| 248864.6384469648|2002.9437336170874|         null|          null|       null|2.055161106928777|     null|        null|     null|      null|6639.971021255605|           null|            null|9.649061794399314|16.306091199294073|     null|     null|     null|     null|     null|     null|     null|     null|     null|     null|  80.5772494874257|\n",
            "| stddev|             null| 9820.119520829581|        null|  null|136072.37652978086| 8.065730511309935|         null|          null|       null|0.671177667208744|     null|        null|     null|      null|6428.152018202911|           null|            null|6.093216996872852| 43.28693309422311|     null|     null|     null|     null|     null|     null|     null|     null|     null|     null|112.82656864261321|\n",
            "|    min|            Acura|               100|   automatic| black|                 0|              1942|       diesel|         False|     diesel|              0.2|cabriolet|       False|emergency|       all|              1.0|          False|  Брестская обл.|                1|                 1|    False|    False|    False|    False|    False|    False|    False|    False|    False|    False|                 0|\n",
            "|    max|              УАЗ|            Таврия|  mechanical|yellow|            999999|              2019|hybrid-petrol|          True|   gasoline|              8.0|      van|        True|    owned|      rear|           9999.0|           True|Могилевская обл.|                9|                99|     True|     True|     True|     True|     True|     True|     True|     True|     True|     True|               995|\n",
            "+-------+-----------------+------------------+------------+------+------------------+------------------+-------------+--------------+-----------+-----------------+---------+------------+---------+----------+-----------------+---------------+----------------+-----------------+------------------+---------+---------+---------+---------+---------+---------+---------+---------+---------+---------+------------------+\n",
            "\n"
          ]
        }
      ]
    },
    {
      "cell_type": "code",
      "source": [
        "df.select (\"manufacturer_name\", \"year_produced\").describe().show()"
      ],
      "metadata": {
        "colab": {
          "base_uri": "https://localhost:8080/"
        },
        "id": "EWdB1U0BtOyP",
        "outputId": "77ca1ffe-e87c-4722-b5a1-63945b2c4a95"
      },
      "execution_count": null,
      "outputs": [
        {
          "output_type": "stream",
          "name": "stdout",
          "text": [
            "+-------+-----------------+------------------+\n",
            "|summary|manufacturer_name|     year_produced|\n",
            "+-------+-----------------+------------------+\n",
            "|  count|            38531|             38531|\n",
            "|   mean|             null|2002.9437336170874|\n",
            "| stddev|             null| 8.065730511309935|\n",
            "|    min|            Acura|              1942|\n",
            "|    max|              УАЗ|              2019|\n",
            "+-------+-----------------+------------------+\n",
            "\n"
          ]
        }
      ]
    },
    {
      "cell_type": "markdown",
      "source": [
        "Остановка сессии  Spark"
      ],
      "metadata": {
        "id": "vKMyFubeuAnS"
      }
    },
    {
      "cell_type": "code",
      "source": [
        "spark.stop()"
      ],
      "metadata": {
        "id": "DaHRnWIbuDo7"
      },
      "execution_count": null,
      "outputs": []
    },
    {
      "cell_type": "code",
      "source": [
        "from pyspark.sql import SparkSession\n",
        "import pyspark.sql.functions as F\n",
        "\n",
        "def main ():\n",
        "\n",
        "    spark =  SparkSession.builder.getOrCreate()\n",
        "    df = spark.read.format (\"csv\").option (\"header\", \"true\").load(\"datacars.csv\")\n",
        "    \n",
        "      output = (\n",
        "        df\n",
        "        .groupBy(\"manufacture_name\")\n",
        "        .agg(\n",
        "            F.count(\"manufacture_name\").alias(\"count\"),\n",
        "            F.round (F.avg(\"year_produced\")).alias(\"avg_year\"),\n",
        "            F.min(\"price_usd\").alias(\"min_price\"),\n",
        "            F.max (\"price_usd\").alias(\"max_price\")\n",
        "        )\n",
        "\n",
        "    )\n",
        "    output.show(6)\n",
        "    \n",
        "main()\n",
        "\n",
        "\n",
        "\n",
        "\n"
      ],
      "metadata": {
        "id": "SX68zsEM_zX7"
      },
      "execution_count": null,
      "outputs": []
    },
    {
      "cell_type": "code",
      "source": [
        "    output = (\n",
        "        df\n",
        "        .groupBy(\"manufacture_name\")\n",
        "        .agg(\n",
        "            F.count(\"manufacture_name\").alias(\"count\"),\n",
        "            F.round (F.avg(\"year_produced\")).alias(\"avg_year\"),\n",
        "            F.min(\"price_usd\").alias(\"min_price\"),\n",
        "            F.max (\"price_usd\").alias(\"max_price\")\n",
        "        )\n",
        "\n",
        "    )\n",
        "    output.show(6)\n",
        "main()"
      ],
      "metadata": {
        "colab": {
          "base_uri": "https://localhost:8080/",
          "height": 539
        },
        "id": "2SOK-Ce-FfaI",
        "outputId": "774f56de-c870-4a16-b053-f4561ecadee5"
      },
      "execution_count": null,
      "outputs": [
        {
          "output_type": "error",
          "ename": "AnalysisException",
          "evalue": "ignored",
          "traceback": [
            "\u001b[0;31m---------------------------------------------------------------------------\u001b[0m",
            "\u001b[0;31mAnalysisException\u001b[0m                         Traceback (most recent call last)",
            "\u001b[0;32m<ipython-input-48-bd734cf3ae5b>\u001b[0m in \u001b[0;36m<module>\u001b[0;34m\u001b[0m\n\u001b[1;32m      6\u001b[0m         \u001b[0mF\u001b[0m\u001b[0;34m.\u001b[0m\u001b[0mround\u001b[0m \u001b[0;34m(\u001b[0m\u001b[0mF\u001b[0m\u001b[0;34m.\u001b[0m\u001b[0mavg\u001b[0m\u001b[0;34m(\u001b[0m\u001b[0;34m\"year_produced\"\u001b[0m\u001b[0;34m)\u001b[0m\u001b[0;34m)\u001b[0m\u001b[0;34m.\u001b[0m\u001b[0malias\u001b[0m\u001b[0;34m(\u001b[0m\u001b[0;34m\"avg_year\"\u001b[0m\u001b[0;34m)\u001b[0m\u001b[0;34m,\u001b[0m\u001b[0;34m\u001b[0m\u001b[0;34m\u001b[0m\u001b[0m\n\u001b[1;32m      7\u001b[0m         \u001b[0mF\u001b[0m\u001b[0;34m.\u001b[0m\u001b[0mmin\u001b[0m\u001b[0;34m(\u001b[0m\u001b[0;34m\"price_usd\"\u001b[0m\u001b[0;34m)\u001b[0m\u001b[0;34m.\u001b[0m\u001b[0malias\u001b[0m\u001b[0;34m(\u001b[0m\u001b[0;34m\"min_price\"\u001b[0m\u001b[0;34m)\u001b[0m\u001b[0;34m,\u001b[0m\u001b[0;34m\u001b[0m\u001b[0;34m\u001b[0m\u001b[0m\n\u001b[0;32m----> 8\u001b[0;31m         \u001b[0mF\u001b[0m\u001b[0;34m.\u001b[0m\u001b[0mmax\u001b[0m \u001b[0;34m(\u001b[0m\u001b[0;34m\"price_usd\"\u001b[0m\u001b[0;34m)\u001b[0m\u001b[0;34m.\u001b[0m\u001b[0malias\u001b[0m\u001b[0;34m(\u001b[0m\u001b[0;34m\"max_price\"\u001b[0m\u001b[0;34m)\u001b[0m\u001b[0;34m\u001b[0m\u001b[0;34m\u001b[0m\u001b[0m\n\u001b[0m\u001b[1;32m      9\u001b[0m     )\n\u001b[1;32m     10\u001b[0m \u001b[0;34m\u001b[0m\u001b[0m\n",
            "\u001b[0;32m/usr/local/lib/python3.7/dist-packages/pyspark/sql/group.py\u001b[0m in \u001b[0;36magg\u001b[0;34m(self, *exprs)\u001b[0m\n\u001b[1;32m    135\u001b[0m             \u001b[0;32massert\u001b[0m \u001b[0mall\u001b[0m\u001b[0;34m(\u001b[0m\u001b[0misinstance\u001b[0m\u001b[0;34m(\u001b[0m\u001b[0mc\u001b[0m\u001b[0;34m,\u001b[0m \u001b[0mColumn\u001b[0m\u001b[0;34m)\u001b[0m \u001b[0;32mfor\u001b[0m \u001b[0mc\u001b[0m \u001b[0;32min\u001b[0m \u001b[0mexprs\u001b[0m\u001b[0;34m)\u001b[0m\u001b[0;34m,\u001b[0m \u001b[0;34m\"all exprs should be Column\"\u001b[0m\u001b[0;34m\u001b[0m\u001b[0;34m\u001b[0m\u001b[0m\n\u001b[1;32m    136\u001b[0m             \u001b[0mexprs\u001b[0m \u001b[0;34m=\u001b[0m \u001b[0mcast\u001b[0m\u001b[0;34m(\u001b[0m\u001b[0mTuple\u001b[0m\u001b[0;34m[\u001b[0m\u001b[0mColumn\u001b[0m\u001b[0;34m,\u001b[0m \u001b[0;34m...\u001b[0m\u001b[0;34m]\u001b[0m\u001b[0;34m,\u001b[0m \u001b[0mexprs\u001b[0m\u001b[0;34m)\u001b[0m\u001b[0;34m\u001b[0m\u001b[0;34m\u001b[0m\u001b[0m\n\u001b[0;32m--> 137\u001b[0;31m             \u001b[0mjdf\u001b[0m \u001b[0;34m=\u001b[0m \u001b[0mself\u001b[0m\u001b[0;34m.\u001b[0m\u001b[0m_jgd\u001b[0m\u001b[0;34m.\u001b[0m\u001b[0magg\u001b[0m\u001b[0;34m(\u001b[0m\u001b[0mexprs\u001b[0m\u001b[0;34m[\u001b[0m\u001b[0;36m0\u001b[0m\u001b[0;34m]\u001b[0m\u001b[0;34m.\u001b[0m\u001b[0m_jc\u001b[0m\u001b[0;34m,\u001b[0m \u001b[0m_to_seq\u001b[0m\u001b[0;34m(\u001b[0m\u001b[0mself\u001b[0m\u001b[0;34m.\u001b[0m\u001b[0msession\u001b[0m\u001b[0;34m.\u001b[0m\u001b[0m_sc\u001b[0m\u001b[0;34m,\u001b[0m \u001b[0;34m[\u001b[0m\u001b[0mc\u001b[0m\u001b[0;34m.\u001b[0m\u001b[0m_jc\u001b[0m \u001b[0;32mfor\u001b[0m \u001b[0mc\u001b[0m \u001b[0;32min\u001b[0m \u001b[0mexprs\u001b[0m\u001b[0;34m[\u001b[0m\u001b[0;36m1\u001b[0m\u001b[0;34m:\u001b[0m\u001b[0;34m]\u001b[0m\u001b[0;34m]\u001b[0m\u001b[0;34m)\u001b[0m\u001b[0;34m)\u001b[0m\u001b[0;34m\u001b[0m\u001b[0;34m\u001b[0m\u001b[0m\n\u001b[0m\u001b[1;32m    138\u001b[0m         \u001b[0;32mreturn\u001b[0m \u001b[0mDataFrame\u001b[0m\u001b[0;34m(\u001b[0m\u001b[0mjdf\u001b[0m\u001b[0;34m,\u001b[0m \u001b[0mself\u001b[0m\u001b[0;34m.\u001b[0m\u001b[0msession\u001b[0m\u001b[0;34m)\u001b[0m\u001b[0;34m\u001b[0m\u001b[0;34m\u001b[0m\u001b[0m\n\u001b[1;32m    139\u001b[0m \u001b[0;34m\u001b[0m\u001b[0m\n",
            "\u001b[0;32m/usr/local/lib/python3.7/dist-packages/py4j/java_gateway.py\u001b[0m in \u001b[0;36m__call__\u001b[0;34m(self, *args)\u001b[0m\n\u001b[1;32m   1320\u001b[0m         \u001b[0manswer\u001b[0m \u001b[0;34m=\u001b[0m \u001b[0mself\u001b[0m\u001b[0;34m.\u001b[0m\u001b[0mgateway_client\u001b[0m\u001b[0;34m.\u001b[0m\u001b[0msend_command\u001b[0m\u001b[0;34m(\u001b[0m\u001b[0mcommand\u001b[0m\u001b[0;34m)\u001b[0m\u001b[0;34m\u001b[0m\u001b[0;34m\u001b[0m\u001b[0m\n\u001b[1;32m   1321\u001b[0m         return_value = get_return_value(\n\u001b[0;32m-> 1322\u001b[0;31m             answer, self.gateway_client, self.target_id, self.name)\n\u001b[0m\u001b[1;32m   1323\u001b[0m \u001b[0;34m\u001b[0m\u001b[0m\n\u001b[1;32m   1324\u001b[0m         \u001b[0;32mfor\u001b[0m \u001b[0mtemp_arg\u001b[0m \u001b[0;32min\u001b[0m \u001b[0mtemp_args\u001b[0m\u001b[0;34m:\u001b[0m\u001b[0;34m\u001b[0m\u001b[0;34m\u001b[0m\u001b[0m\n",
            "\u001b[0;32m/usr/local/lib/python3.7/dist-packages/pyspark/sql/utils.py\u001b[0m in \u001b[0;36mdeco\u001b[0;34m(*a, **kw)\u001b[0m\n\u001b[1;32m    194\u001b[0m                 \u001b[0;31m# Hide where the exception came from that shows a non-Pythonic\u001b[0m\u001b[0;34m\u001b[0m\u001b[0;34m\u001b[0m\u001b[0;34m\u001b[0m\u001b[0m\n\u001b[1;32m    195\u001b[0m                 \u001b[0;31m# JVM exception message.\u001b[0m\u001b[0;34m\u001b[0m\u001b[0;34m\u001b[0m\u001b[0;34m\u001b[0m\u001b[0m\n\u001b[0;32m--> 196\u001b[0;31m                 \u001b[0;32mraise\u001b[0m \u001b[0mconverted\u001b[0m \u001b[0;32mfrom\u001b[0m \u001b[0;32mNone\u001b[0m\u001b[0;34m\u001b[0m\u001b[0;34m\u001b[0m\u001b[0m\n\u001b[0m\u001b[1;32m    197\u001b[0m             \u001b[0;32melse\u001b[0m\u001b[0;34m:\u001b[0m\u001b[0;34m\u001b[0m\u001b[0;34m\u001b[0m\u001b[0m\n\u001b[1;32m    198\u001b[0m                 \u001b[0;32mraise\u001b[0m\u001b[0;34m\u001b[0m\u001b[0;34m\u001b[0m\u001b[0m\n",
            "\u001b[0;31mAnalysisException\u001b[0m: Column 'manufacture_name' does not exist. Did you mean one of the following? [manufacturer_name, feature_0, feature_1, feature_2, feature_3, feature_4, feature_5, feature_6, feature_7, feature_8, feature_9, model_name, engine_type, has_warranty, odometer_value, up_counter, drivetrain, duration_listed, engine_fuel, engine_has_gas, price_usd, state, body_type, is_exchangeable, location_region, transmission, year_produced, color, engine_capacity, number_of_photos];\n'Aggregate ['manufacture_name], ['manufacture_name, count('manufacture_name) AS count#4367, round(avg(cast(year_produced#176 as double)), 0) AS avg_year#4369, min(price_usd#185) AS min_price#4371, max(price_usd#185) AS max_price#4373]\n+- Relation [manufacturer_name#171,model_name#172,transmission#173,color#174,odometer_value#175,year_produced#176,engine_fuel#177,engine_has_gas#178,engine_type#179,engine_capacity#180,body_type#181,has_warranty#182,state#183,drivetrain#184,price_usd#185,is_exchangeable#186,location_region#187,number_of_photos#188,up_counter#189,feature_0#190,feature_1#191,feature_2#192,feature_3#193,feature_4#194,... 6 more fields] csv\n"
          ]
        }
      ]
    }
  ]
}